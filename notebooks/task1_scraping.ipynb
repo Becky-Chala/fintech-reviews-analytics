{
 "cells": [
  {
   "cell_type": "markdown",
   "id": "889106ba",
   "metadata": {},
   "source": [
    "# Task 1: Data Collection and Preprocessing\n",
    "\n",
    "## Objective\n",
    "The goal of this task is to collect, clean, and prepare user reviews from the Google Play Store for three Ethiopian banking apps: Dashen Bank, Commercial Bank of Ethiopia (CBE), and Bank of Abyssinia (BOA). This data will be used for sentiment and thematic analysis in later stages.\n"
   ]
  },
  {
   "cell_type": "markdown",
   "id": "afd7d394",
   "metadata": {},
   "source": [
    "## Import Required Libraries\n",
    "\n",
    "In this section, we import the necessary libraries:\n",
    "\n",
    "- `google_play_scraper`: to scrape reviews from the Google Play Store.\n",
    "- `pandas`: for handling and manipulating tabular data.\n",
    "- `datetime`: to format review timestamps.\n",
    "- `csv`: included for potential CSV operations (optional if using pandas to save files)."
   ]
  },
  {
   "cell_type": "code",
   "execution_count": 1,
   "id": "68b3c7e7",
   "metadata": {},
   "outputs": [],
   "source": [
    "from google_play_scraper import Sort, reviews\n",
    "import pandas as pd\n",
    "from datetime import datetime\n",
    "import csv"
   ]
  },
  {
   "cell_type": "markdown",
   "id": "db43145a",
   "metadata": {},
   "source": [
    "## Scrape Reviews for Each Bank App\n",
    "\n",
    "This section defines the target banking apps with their respective Google Play Store App IDs. \n",
    "For each app, we scrape up to 500 of the most recent user reviews using the `google-play-scraper` package.\n",
    "\n",
    "The following information is collected for each review:\n",
    "- Review text (`content`)\n",
    "- Star rating (`score`)\n",
    "- Review date (`at`)\n",
    "- App name (bank)\n",
    "- Data source (`Google Play`)\n",
    "\n",
    "All reviews are compiled into a single list and then converted into a Pandas DataFrame for further processing."
   ]
  },
  {
   "cell_type": "code",
   "execution_count": 2,
   "id": "b20b8f51",
   "metadata": {},
   "outputs": [],
   "source": [
    "apps = {\n",
    "    'Dashen Bank': 'com.dashen.dashensuperapp',\n",
    "    'Commercial Bank of Ethiopia': 'com.combanketh.mobilebanking',\n",
    "    'Bank of Abyssinia': 'com.boa.boaMobileBanking'\n",
    "}"
   ]
  },
  {
   "cell_type": "markdown",
   "id": "515da3e4",
   "metadata": {},
   "source": [
    "## Extract and Store Review Data\n",
    "\n",
    "For each bank app in the `apps` dictionary, this loop:\n",
    "- Requests the latest 500 reviews using the `reviews()` function.\n",
    "- Extracts key details: review text, star rating, posting date, and source.\n",
    "- Appends each review as a dictionary to the `all_reviews` list.\n",
    "\n",
    "Once all reviews are collected, the list is converted into a Pandas DataFrame named `df_raw`, which provides a structured format for further cleaning and analysis."
   ]
  },
  {
   "cell_type": "code",
   "execution_count": 3,
   "id": "1d808933",
   "metadata": {},
   "outputs": [
    {
     "name": "stdout",
     "output_type": "stream",
     "text": [
      "Scraping reviews for Dashen Bank...\n",
      "Scraping reviews for Commercial Bank of Ethiopia...\n",
      "Scraping reviews for Bank of Abyssinia...\n"
     ]
    },
    {
     "data": {
      "text/html": [
       "<div>\n",
       "<style scoped>\n",
       "    .dataframe tbody tr th:only-of-type {\n",
       "        vertical-align: middle;\n",
       "    }\n",
       "\n",
       "    .dataframe tbody tr th {\n",
       "        vertical-align: top;\n",
       "    }\n",
       "\n",
       "    .dataframe thead th {\n",
       "        text-align: right;\n",
       "    }\n",
       "</style>\n",
       "<table border=\"1\" class=\"dataframe\">\n",
       "  <thead>\n",
       "    <tr style=\"text-align: right;\">\n",
       "      <th></th>\n",
       "      <th>review</th>\n",
       "      <th>rating</th>\n",
       "      <th>date</th>\n",
       "      <th>bank</th>\n",
       "      <th>source</th>\n",
       "    </tr>\n",
       "  </thead>\n",
       "  <tbody>\n",
       "    <tr>\n",
       "      <th>0</th>\n",
       "      <td>kalid</td>\n",
       "      <td>5</td>\n",
       "      <td>2025-06-08</td>\n",
       "      <td>Dashen Bank</td>\n",
       "      <td>Google Play</td>\n",
       "    </tr>\n",
       "    <tr>\n",
       "      <th>1</th>\n",
       "      <td>I like this mobile banking app very much. Over...</td>\n",
       "      <td>2</td>\n",
       "      <td>2025-06-07</td>\n",
       "      <td>Dashen Bank</td>\n",
       "      <td>Google Play</td>\n",
       "    </tr>\n",
       "    <tr>\n",
       "      <th>2</th>\n",
       "      <td>love</td>\n",
       "      <td>3</td>\n",
       "      <td>2025-06-06</td>\n",
       "      <td>Dashen Bank</td>\n",
       "      <td>Google Play</td>\n",
       "    </tr>\n",
       "    <tr>\n",
       "      <th>3</th>\n",
       "      <td>መቸሸጠ</td>\n",
       "      <td>5</td>\n",
       "      <td>2025-06-03</td>\n",
       "      <td>Dashen Bank</td>\n",
       "      <td>Google Play</td>\n",
       "    </tr>\n",
       "    <tr>\n",
       "      <th>4</th>\n",
       "      <td>wow</td>\n",
       "      <td>5</td>\n",
       "      <td>2025-06-03</td>\n",
       "      <td>Dashen Bank</td>\n",
       "      <td>Google Play</td>\n",
       "    </tr>\n",
       "  </tbody>\n",
       "</table>\n",
       "</div>"
      ],
      "text/plain": [
       "                                              review  rating        date  \\\n",
       "0                                              kalid       5  2025-06-08   \n",
       "1  I like this mobile banking app very much. Over...       2  2025-06-07   \n",
       "2                                               love       3  2025-06-06   \n",
       "3                                               መቸሸጠ       5  2025-06-03   \n",
       "4                                                wow       5  2025-06-03   \n",
       "\n",
       "          bank       source  \n",
       "0  Dashen Bank  Google Play  \n",
       "1  Dashen Bank  Google Play  \n",
       "2  Dashen Bank  Google Play  \n",
       "3  Dashen Bank  Google Play  \n",
       "4  Dashen Bank  Google Play  "
      ]
     },
     "execution_count": 3,
     "metadata": {},
     "output_type": "execute_result"
    }
   ],
   "source": [
    "all_reviews = []\n",
    "\n",
    "for bank_name, app_id in apps.items():\n",
    "    print(f\"Scraping reviews for {bank_name}...\")\n",
    "    results, _ = reviews(\n",
    "        app_id,\n",
    "        lang='en',\n",
    "        country='US',\n",
    "        sort=Sort.NEWEST,\n",
    "        count=500,\n",
    "        filter_score_with=None\n",
    "    )\n",
    "    \n",
    "    for entry in results:\n",
    "        all_reviews.append({\n",
    "            'review': entry['content'],\n",
    "            'rating': entry['score'],\n",
    "            'date': entry['at'].strftime('%Y-%m-%d'),\n",
    "            'bank': bank_name,\n",
    "            'source': 'Google Play'\n",
    "        })\n",
    "\n",
    "df_raw = pd.DataFrame(all_reviews)\n",
    "df_raw.head()"
   ]
  },
  {
   "cell_type": "markdown",
   "id": "3417854e",
   "metadata": {},
   "source": [
    "## Clean the Review Data\n",
    "\n",
    "To ensure data quality and accuracy, the following cleaning steps are applied:\n",
    "\n",
    "1. **Remove Duplicates**  \n",
    "   Duplicate entries are dropped based on a combination of `review`, `date`, and `bank` to avoid over-representing repeated feedback.\n",
    "\n",
    "2. **Handle Missing Values**  \n",
    "   Any rows with missing values in the key fields `review`, `rating`, or `date` are removed.\n",
    "\n",
    "3. **Check Dataset Size**  \n",
    "   The number of reviews before and after cleaning is printed to confirm how many were removed during preprocessing.\n"
   ]
  },
  {
   "cell_type": "code",
   "execution_count": 4,
   "id": "927f190f",
   "metadata": {},
   "outputs": [
    {
     "name": "stdout",
     "output_type": "stream",
     "text": [
      "Original count: 1450\n",
      "Cleaned count: 1428\n"
     ]
    }
   ],
   "source": [
    "df_clean = df_raw.drop_duplicates(subset=['review', 'date', 'bank'])\n",
    "\n",
    "df_clean = df_clean.dropna(subset=['review', 'rating', 'date'])\n",
    "\n",
    "print(f\"Original count: {len(df_raw)}\")\n",
    "print(f\"Cleaned count: {len(df_clean)}\")"
   ]
  },
  {
   "cell_type": "markdown",
   "id": "1330cdbf",
   "metadata": {},
   "source": [
    "## Save the Cleaned Dataset\n",
    "\n",
    "After cleaning, the final dataset is saved to a CSV file for later use in sentiment and thematic analysis.\n",
    "\n",
    "- The filename includes a timestamp to ensure uniqueness and version tracking.\n",
    "- The file is saved without the index column.\n",
    "- A confirmation message is printed showing the file name and successful save."
   ]
  },
  {
   "cell_type": "code",
   "execution_count": 8,
   "id": "1a1c04cf",
   "metadata": {},
   "outputs": [
    {
     "name": "stdout",
     "output_type": "stream",
     "text": [
      "✅ Saved cleaned dataset as: cleaned_reviews.csv\n"
     ]
    }
   ],
   "source": [
    "filename = f\"cleaned_reviews.csv\"\n",
    "df_clean.to_csv(filename, index=False)\n",
    "print(f\"✅ Saved cleaned dataset as: {filename}\")"
   ]
  }
 ],
 "metadata": {
  "kernelspec": {
   "display_name": ".venv",
   "language": "python",
   "name": "python3"
  },
  "language_info": {
   "codemirror_mode": {
    "name": "ipython",
    "version": 3
   },
   "file_extension": ".py",
   "mimetype": "text/x-python",
   "name": "python",
   "nbconvert_exporter": "python",
   "pygments_lexer": "ipython3",
   "version": "3.13.3"
  }
 },
 "nbformat": 4,
 "nbformat_minor": 5
}

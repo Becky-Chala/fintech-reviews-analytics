{
 "cells": [
  {
   "cell_type": "markdown",
   "id": "889106ba",
   "metadata": {},
   "source": [
    "# Task 1: Data Collection and Preprocessing\n",
    "\n",
    "## Objective\n",
    "The goal of this task is to collect, clean, and prepare user reviews from the Google Play Store for three Ethiopian banking apps: Dashen Bank, Commercial Bank of Ethiopia (CBE), and Bank of Abyssinia (BOA). This data will be used for sentiment and thematic analysis in later stages.\n"
   ]
  },
  {
   "cell_type": "markdown",
   "id": "afd7d394",
   "metadata": {},
   "source": [
    "## Import Required Libraries\n",
    "\n",
    "In this section, we import the necessary libraries:\n",
    "\n",
    "- `google_play_scraper`: to scrape reviews from the Google Play Store.\n",
    "- `pandas`: for handling and manipulating tabular data.\n",
    "- `datetime`: to format review timestamps.\n",
    "- `csv`: included for potential CSV operations (optional if using pandas to save files)."
   ]
  },
  {
   "cell_type": "code",
   "execution_count": 1,
   "id": "68b3c7e7",
   "metadata": {},
   "outputs": [],
   "source": [
    "from google_play_scraper import Sort, reviews\n",
    "import pandas as pd\n",
    "from datetime import datetime\n",
    "import csv\n",
    "import os"
   ]
  },
  {
   "cell_type": "markdown",
   "id": "db43145a",
   "metadata": {},
   "source": [
    "## Scrape Reviews for Each Bank App\n",
    "\n",
    "This section defines the target banking apps with their respective Google Play Store App IDs. \n",
    "For each app, we scrape up to 500 of the most recent user reviews using the `google-play-scraper` package.\n",
    "\n",
    "The following information is collected for each review:\n",
    "- Review text (`content`)\n",
    "- Star rating (`score`)\n",
    "- Review date (`at`)\n",
    "- App name (bank)\n",
    "- Data source (`Google Play`)\n",
    "\n",
    "All reviews are compiled into a single list and then converted into a Pandas DataFrame for further processing."
   ]
  },
  {
   "cell_type": "code",
   "execution_count": 2,
   "id": "b20b8f51",
   "metadata": {},
   "outputs": [],
   "source": [
    "apps = {\n",
    "    'Dashen Bank': 'com.dashen.dashensuperapp',\n",
    "    'Commercial Bank of Ethiopia': 'com.combanketh.mobilebanking',\n",
    "    'Bank of Abyssinia': 'com.boa.boaMobileBanking'\n",
    "}"
   ]
  },
  {
   "cell_type": "markdown",
   "id": "515da3e4",
   "metadata": {},
   "source": [
    "## Extract and Store Review Data\n",
    "\n",
    "For each bank app in the `apps` dictionary, this loop:\n",
    "- Requests the latest 500 reviews using the `reviews()` function.\n",
    "- Extracts key details: review text, star rating, posting date, and source.\n",
    "- Appends each review as a dictionary to the `all_reviews` list.\n",
    "\n",
    "Once all reviews are collected, the list is converted into a Pandas DataFrame named `df_raw`, which provides a structured format for further cleaning and analysis."
   ]
  },
  {
   "cell_type": "code",
   "execution_count": 3,
   "id": "1d808933",
   "metadata": {},
   "outputs": [
    {
     "name": "stdout",
     "output_type": "stream",
     "text": [
      "Scraping reviews for Dashen Bank...\n",
      "Scraping reviews for Commercial Bank of Ethiopia...\n",
      "Scraping reviews for Bank of Abyssinia...\n"
     ]
    },
    {
     "data": {
      "text/html": [
       "<div>\n",
       "<style scoped>\n",
       "    .dataframe tbody tr th:only-of-type {\n",
       "        vertical-align: middle;\n",
       "    }\n",
       "\n",
       "    .dataframe tbody tr th {\n",
       "        vertical-align: top;\n",
       "    }\n",
       "\n",
       "    .dataframe thead th {\n",
       "        text-align: right;\n",
       "    }\n",
       "</style>\n",
       "<table border=\"1\" class=\"dataframe\">\n",
       "  <thead>\n",
       "    <tr style=\"text-align: right;\">\n",
       "      <th></th>\n",
       "      <th>review</th>\n",
       "      <th>rating</th>\n",
       "      <th>date</th>\n",
       "      <th>bank</th>\n",
       "      <th>source</th>\n",
       "    </tr>\n",
       "  </thead>\n",
       "  <tbody>\n",
       "    <tr>\n",
       "      <th>0</th>\n",
       "      <td>good</td>\n",
       "      <td>5</td>\n",
       "      <td>2025-06-10</td>\n",
       "      <td>Dashen Bank</td>\n",
       "      <td>Google Play</td>\n",
       "    </tr>\n",
       "    <tr>\n",
       "      <th>1</th>\n",
       "      <td>very good .</td>\n",
       "      <td>5</td>\n",
       "      <td>2025-06-09</td>\n",
       "      <td>Dashen Bank</td>\n",
       "      <td>Google Play</td>\n",
       "    </tr>\n",
       "    <tr>\n",
       "      <th>2</th>\n",
       "      <td>this app is good for you guys</td>\n",
       "      <td>5</td>\n",
       "      <td>2025-06-09</td>\n",
       "      <td>Dashen Bank</td>\n",
       "      <td>Google Play</td>\n",
       "    </tr>\n",
       "    <tr>\n",
       "      <th>3</th>\n",
       "      <td>wow</td>\n",
       "      <td>5</td>\n",
       "      <td>2025-06-09</td>\n",
       "      <td>Dashen Bank</td>\n",
       "      <td>Google Play</td>\n",
       "    </tr>\n",
       "    <tr>\n",
       "      <th>4</th>\n",
       "      <td>kalid</td>\n",
       "      <td>5</td>\n",
       "      <td>2025-06-08</td>\n",
       "      <td>Dashen Bank</td>\n",
       "      <td>Google Play</td>\n",
       "    </tr>\n",
       "  </tbody>\n",
       "</table>\n",
       "</div>"
      ],
      "text/plain": [
       "                          review  rating        date         bank       source\n",
       "0                           good       5  2025-06-10  Dashen Bank  Google Play\n",
       "1                    very good .       5  2025-06-09  Dashen Bank  Google Play\n",
       "2  this app is good for you guys       5  2025-06-09  Dashen Bank  Google Play\n",
       "3                            wow       5  2025-06-09  Dashen Bank  Google Play\n",
       "4                          kalid       5  2025-06-08  Dashen Bank  Google Play"
      ]
     },
     "execution_count": 3,
     "metadata": {},
     "output_type": "execute_result"
    }
   ],
   "source": [
    "all_reviews = []\n",
    "\n",
    "for bank_name, app_id in apps.items():\n",
    "    print(f\"Scraping reviews for {bank_name}...\")\n",
    "    results, _ = reviews(\n",
    "        app_id,\n",
    "        lang='en',\n",
    "        country='US',\n",
    "        sort=Sort.NEWEST,\n",
    "        count=500,\n",
    "        filter_score_with=None\n",
    "    )\n",
    "    \n",
    "    for entry in results:\n",
    "        all_reviews.append({\n",
    "            'review': entry['content'],\n",
    "            'rating': entry['score'],\n",
    "            'date': entry['at'].strftime('%Y-%m-%d'),\n",
    "            'bank': bank_name,\n",
    "            'source': 'Google Play'\n",
    "        })\n",
    "\n",
    "df_raw = pd.DataFrame(all_reviews)\n",
    "df_raw.head()"
   ]
  },
  {
   "cell_type": "markdown",
   "id": "6fb7e8ab",
   "metadata": {},
   "source": [
    "## Preview Raw Data\n",
    "\n",
    "Displaying the first few rows of the raw review dataset before cleaning."
   ]
  },
  {
   "cell_type": "markdown",
   "id": "3417854e",
   "metadata": {},
   "source": [
    "## Clean the Review Data\n",
    "\n",
    "To ensure data quality and accuracy, the following cleaning steps are applied:\n",
    "\n",
    "1. **Remove Duplicates**  \n",
    "   Duplicate entries are dropped based on a combination of `review`, `date`, and `bank` to avoid over-representing repeated feedback.\n",
    "\n",
    "2. **Handle Missing Values**  \n",
    "   Any rows with missing values in the key fields `review`, `rating`, or `date` are removed.\n",
    "\n",
    "3. **Check Dataset Size**  \n",
    "   The number of reviews before and after cleaning is printed to confirm how many were removed during preprocessing.\n"
   ]
  },
  {
   "cell_type": "code",
   "execution_count": 4,
   "id": "927f190f",
   "metadata": {},
   "outputs": [
    {
     "name": "stdout",
     "output_type": "stream",
     "text": [
      "Original count: 1454\n",
      "Cleaned count: 1432\n"
     ]
    }
   ],
   "source": [
    "df_clean = df_raw.drop_duplicates(subset=['review', 'date', 'bank'])\n",
    "\n",
    "df_clean = df_clean.dropna(subset=['review', 'rating', 'date'])\n",
    "\n",
    "print(f\"Original count: {len(df_raw)}\")\n",
    "print(f\"Cleaned count: {len(df_clean)}\")"
   ]
  },
  {
   "cell_type": "markdown",
   "id": "1330cdbf",
   "metadata": {},
   "source": [
    "## Save the Cleaned Dataset\n",
    "\n",
    "After cleaning, the final dataset is saved to a CSV file for later use in sentiment and thematic analysis.\n",
    "\n",
    "- The filename includes a timestamp to ensure uniqueness and version tracking.\n",
    "- The file is saved without the index column.\n",
    "- A confirmation message is printed showing the file name and successful save."
   ]
  },
  {
   "cell_type": "code",
   "execution_count": 5,
   "id": "1a1c04cf",
   "metadata": {},
   "outputs": [
    {
     "name": "stdout",
     "output_type": "stream",
     "text": [
      "✅ Saved cleaned dataset as: data/cleaned_reviews.csv\n"
     ]
    }
   ],
   "source": [
    "filename = f\"cleaned_reviews.csv\"\n",
    "df_clean.to_csv(f\"../data/{filename}\", index=False)\n",
    "print(f\"✅ Saved cleaned dataset as: data/{filename}\")"
   ]
  },
  {
   "cell_type": "markdown",
   "id": "d7985636",
   "metadata": {},
   "source": [
    "## ✅ Task 1 Summary\n",
    "\n",
    "- Scraped 500 reviews for each bank (1,500 total).\n",
    "- Cleaned the dataset by removing duplicates and missing entries.\n",
    "- Saved the cleaned data to a timestamped CSV file in the `data/` directory.\n",
    "- Ready to proceed with sentiment and thematic analysis in Task 2."
   ]
  },
  {
   "cell_type": "markdown",
   "id": "0f0a0ee4",
   "metadata": {},
   "source": [
    "# Task 2: Sentiment and Thematic Analysis\n",
    "\n",
    "## Objective\n",
    "\n",
    "In this task, we begin analyzing customer feedback collected in Task 1 to understand user satisfaction and pain points. We will:\n",
    "\n",
    "- Perform sentiment analysis using the VADER model.\n",
    "- Classify reviews into Positive, Negative, or Neutral.\n",
    "- Summarize sentiment trends for each bank.\n",
    "\n",
    "These results will support deeper thematic analysis in the next phase."
   ]
  },
  {
   "cell_type": "markdown",
   "id": "d2b6ca14",
   "metadata": {},
   "source": [
    "## Step 1: Sentiment Analysis Setup\n",
    "\n",
    "We use the VADER (Valence Aware Dictionary and sEntiment Reasoner) sentiment analysis tool. \n",
    "It is a lexicon and rule-based sentiment analysis model well-suited for social media and short texts like user reviews."
   ]
  },
  {
   "cell_type": "code",
   "execution_count": 6,
   "id": "a33c87a9",
   "metadata": {},
   "outputs": [],
   "source": [
    "from vaderSentiment.vaderSentiment import SentimentIntensityAnalyzer\n",
    "import seaborn as sns\n",
    "import matplotlib.pyplot as plt"
   ]
  },
  {
   "cell_type": "markdown",
   "id": "66f98564",
   "metadata": {},
   "source": [
    "## Load Cleaned Review Data\n",
    "\n",
    "We load the preprocessed dataset created in Task 1. This dataset contains user reviews, star ratings, dates, and associated bank information for three Ethiopian banking apps."
   ]
  },
  {
   "cell_type": "code",
   "execution_count": 7,
   "id": "e4fef6af",
   "metadata": {},
   "outputs": [
    {
     "data": {
      "text/html": [
       "<div>\n",
       "<style scoped>\n",
       "    .dataframe tbody tr th:only-of-type {\n",
       "        vertical-align: middle;\n",
       "    }\n",
       "\n",
       "    .dataframe tbody tr th {\n",
       "        vertical-align: top;\n",
       "    }\n",
       "\n",
       "    .dataframe thead th {\n",
       "        text-align: right;\n",
       "    }\n",
       "</style>\n",
       "<table border=\"1\" class=\"dataframe\">\n",
       "  <thead>\n",
       "    <tr style=\"text-align: right;\">\n",
       "      <th></th>\n",
       "      <th>review</th>\n",
       "      <th>rating</th>\n",
       "      <th>date</th>\n",
       "      <th>bank</th>\n",
       "      <th>source</th>\n",
       "    </tr>\n",
       "  </thead>\n",
       "  <tbody>\n",
       "    <tr>\n",
       "      <th>0</th>\n",
       "      <td>good</td>\n",
       "      <td>5</td>\n",
       "      <td>2025-06-10</td>\n",
       "      <td>Dashen Bank</td>\n",
       "      <td>Google Play</td>\n",
       "    </tr>\n",
       "    <tr>\n",
       "      <th>1</th>\n",
       "      <td>very good .</td>\n",
       "      <td>5</td>\n",
       "      <td>2025-06-09</td>\n",
       "      <td>Dashen Bank</td>\n",
       "      <td>Google Play</td>\n",
       "    </tr>\n",
       "    <tr>\n",
       "      <th>2</th>\n",
       "      <td>this app is good for you guys</td>\n",
       "      <td>5</td>\n",
       "      <td>2025-06-09</td>\n",
       "      <td>Dashen Bank</td>\n",
       "      <td>Google Play</td>\n",
       "    </tr>\n",
       "    <tr>\n",
       "      <th>3</th>\n",
       "      <td>wow</td>\n",
       "      <td>5</td>\n",
       "      <td>2025-06-09</td>\n",
       "      <td>Dashen Bank</td>\n",
       "      <td>Google Play</td>\n",
       "    </tr>\n",
       "    <tr>\n",
       "      <th>4</th>\n",
       "      <td>kalid</td>\n",
       "      <td>5</td>\n",
       "      <td>2025-06-08</td>\n",
       "      <td>Dashen Bank</td>\n",
       "      <td>Google Play</td>\n",
       "    </tr>\n",
       "  </tbody>\n",
       "</table>\n",
       "</div>"
      ],
      "text/plain": [
       "                          review  rating        date         bank       source\n",
       "0                           good       5  2025-06-10  Dashen Bank  Google Play\n",
       "1                    very good .       5  2025-06-09  Dashen Bank  Google Play\n",
       "2  this app is good for you guys       5  2025-06-09  Dashen Bank  Google Play\n",
       "3                            wow       5  2025-06-09  Dashen Bank  Google Play\n",
       "4                          kalid       5  2025-06-08  Dashen Bank  Google Play"
      ]
     },
     "execution_count": 7,
     "metadata": {},
     "output_type": "execute_result"
    }
   ],
   "source": [
    "df = pd.read_csv(\"../data/cleaned_reviews.csv\")  # <-- replace with your filename\n",
    "df.head()"
   ]
  },
  {
   "cell_type": "markdown",
   "id": "267f782d",
   "metadata": {},
   "source": [
    "## Define Sentiment Classification Function\n",
    "\n",
    "Using the VADER sentiment analyzer, we define a helper function to classify reviews into:\n",
    "- **Positive** (compound score ≥ 0.05)\n",
    "- **Negative** (compound score ≤ -0.05)\n",
    "- **Neutral** (otherwise)\n",
    "\n",
    "The compound score represents overall sentiment intensity."
   ]
  },
  {
   "cell_type": "code",
   "execution_count": 8,
   "id": "ef1c3ff0",
   "metadata": {},
   "outputs": [],
   "source": [
    "analyzer = SentimentIntensityAnalyzer()\n",
    "\n",
    "def get_sentiment_label(text):\n",
    "    score = analyzer.polarity_scores(text)['compound']\n",
    "    if score >= 0.05:\n",
    "        return 'positive'\n",
    "    elif score <= -0.05:\n",
    "        return 'negative'\n",
    "    else:\n",
    "        return 'neutral'"
   ]
  },
  {
   "cell_type": "markdown",
   "id": "a7de1f5b",
   "metadata": {},
   "source": [
    "## Apply Sentiment Analysis to Reviews\n",
    "\n",
    "We apply our sentiment classification function to each review and store the result in a new column called `sentiment`. A preview of the review text and its corresponding sentiment label is shown below."
   ]
  },
  {
   "cell_type": "code",
   "execution_count": 9,
   "id": "6184036b",
   "metadata": {},
   "outputs": [
    {
     "data": {
      "text/html": [
       "<div>\n",
       "<style scoped>\n",
       "    .dataframe tbody tr th:only-of-type {\n",
       "        vertical-align: middle;\n",
       "    }\n",
       "\n",
       "    .dataframe tbody tr th {\n",
       "        vertical-align: top;\n",
       "    }\n",
       "\n",
       "    .dataframe thead th {\n",
       "        text-align: right;\n",
       "    }\n",
       "</style>\n",
       "<table border=\"1\" class=\"dataframe\">\n",
       "  <thead>\n",
       "    <tr style=\"text-align: right;\">\n",
       "      <th></th>\n",
       "      <th>review</th>\n",
       "      <th>sentiment</th>\n",
       "    </tr>\n",
       "  </thead>\n",
       "  <tbody>\n",
       "    <tr>\n",
       "      <th>0</th>\n",
       "      <td>good</td>\n",
       "      <td>positive</td>\n",
       "    </tr>\n",
       "    <tr>\n",
       "      <th>1</th>\n",
       "      <td>very good .</td>\n",
       "      <td>positive</td>\n",
       "    </tr>\n",
       "    <tr>\n",
       "      <th>2</th>\n",
       "      <td>this app is good for you guys</td>\n",
       "      <td>positive</td>\n",
       "    </tr>\n",
       "    <tr>\n",
       "      <th>3</th>\n",
       "      <td>wow</td>\n",
       "      <td>positive</td>\n",
       "    </tr>\n",
       "    <tr>\n",
       "      <th>4</th>\n",
       "      <td>kalid</td>\n",
       "      <td>neutral</td>\n",
       "    </tr>\n",
       "  </tbody>\n",
       "</table>\n",
       "</div>"
      ],
      "text/plain": [
       "                          review sentiment\n",
       "0                           good  positive\n",
       "1                    very good .  positive\n",
       "2  this app is good for you guys  positive\n",
       "3                            wow  positive\n",
       "4                          kalid   neutral"
      ]
     },
     "execution_count": 9,
     "metadata": {},
     "output_type": "execute_result"
    }
   ],
   "source": [
    "df['sentiment'] = df['review'].apply(get_sentiment_label)\n",
    "df[['review', 'sentiment']].head()"
   ]
  },
  {
   "cell_type": "code",
   "execution_count": 10,
   "id": "3e0b93c7",
   "metadata": {},
   "outputs": [
    {
     "data": {
      "text/html": [
       "<div>\n",
       "<style scoped>\n",
       "    .dataframe tbody tr th:only-of-type {\n",
       "        vertical-align: middle;\n",
       "    }\n",
       "\n",
       "    .dataframe tbody tr th {\n",
       "        vertical-align: top;\n",
       "    }\n",
       "\n",
       "    .dataframe thead th {\n",
       "        text-align: right;\n",
       "    }\n",
       "</style>\n",
       "<table border=\"1\" class=\"dataframe\">\n",
       "  <thead>\n",
       "    <tr style=\"text-align: right;\">\n",
       "      <th>sentiment</th>\n",
       "      <th>negative</th>\n",
       "      <th>neutral</th>\n",
       "      <th>positive</th>\n",
       "    </tr>\n",
       "    <tr>\n",
       "      <th>bank</th>\n",
       "      <th></th>\n",
       "      <th></th>\n",
       "      <th></th>\n",
       "    </tr>\n",
       "  </thead>\n",
       "  <tbody>\n",
       "    <tr>\n",
       "      <th>Bank of Abyssinia</th>\n",
       "      <td>118</td>\n",
       "      <td>162</td>\n",
       "      <td>219</td>\n",
       "    </tr>\n",
       "    <tr>\n",
       "      <th>Commercial Bank of Ethiopia</th>\n",
       "      <td>36</td>\n",
       "      <td>115</td>\n",
       "      <td>329</td>\n",
       "    </tr>\n",
       "    <tr>\n",
       "      <th>Dashen Bank</th>\n",
       "      <td>26</td>\n",
       "      <td>91</td>\n",
       "      <td>336</td>\n",
       "    </tr>\n",
       "  </tbody>\n",
       "</table>\n",
       "</div>"
      ],
      "text/plain": [
       "sentiment                    negative  neutral  positive\n",
       "bank                                                    \n",
       "Bank of Abyssinia                 118      162       219\n",
       "Commercial Bank of Ethiopia        36      115       329\n",
       "Dashen Bank                        26       91       336"
      ]
     },
     "execution_count": 10,
     "metadata": {},
     "output_type": "execute_result"
    }
   ],
   "source": [
    "sentiment_summary = df.groupby(['bank', 'sentiment']).size().unstack().fillna(0)\n",
    "sentiment_summary"
   ]
  },
  {
   "cell_type": "code",
   "execution_count": 11,
   "id": "6b8073ee",
   "metadata": {},
   "outputs": [
    {
     "data": {
      "image/png": "[encoded data removed]",
      "text/plain": [
       "<Figure size 800x500 with 1 Axes>"
      ]
     },
     "metadata": {},
     "output_type": "display_data"
    }
   ],
   "source": [
    "plt.figure(figsize=(8, 5))\n",
    "sns.countplot(data=df, x='sentiment', hue='bank')\n",
    "plt.title(\"Sentiment Distribution by Bank\")\n",
    "plt.xlabel(\"Sentiment\")\n",
    "plt.ylabel(\"Number of Reviews\")\n",
    "plt.legend(title=\"Bank\")\n",
    "plt.show()"
   ]
  },
  {
   "cell_type": "code",
   "execution_count": 12,
   "id": "3a795d0d",
   "metadata": {},
   "outputs": [
    {
     "name": "stderr",
     "output_type": "stream",
     "text": [
      "[nltk_data] Downloading package stopwords to\n",
      "[nltk_data]     C:\\Users\\Bereket\\AppData\\Roaming\\nltk_data...\n",
      "[nltk_data]   Package stopwords is already up-to-date!\n"
     ]
    },
    {
     "data": {
      "text/plain": [
       "True"
      ]
     },
     "execution_count": 12,
     "metadata": {},
     "output_type": "execute_result"
    }
   ],
   "source": [
    "from sklearn.feature_extraction.text import TfidfVectorizer\n",
    "import string\n",
    "import re\n",
    "from nltk.corpus import stopwords\n",
    "import nltk\n",
    "nltk.download('stopwords')"
   ]
  },
  {
   "cell_type": "code",
   "execution_count": 13,
   "id": "865483ea",
   "metadata": {},
   "outputs": [
    {
     "data": {
      "text/html": [
       "<div>\n",
       "<style scoped>\n",
       "    .dataframe tbody tr th:only-of-type {\n",
       "        vertical-align: middle;\n",
       "    }\n",
       "\n",
       "    .dataframe tbody tr th {\n",
       "        vertical-align: top;\n",
       "    }\n",
       "\n",
       "    .dataframe thead th {\n",
       "        text-align: right;\n",
       "    }\n",
       "</style>\n",
       "<table border=\"1\" class=\"dataframe\">\n",
       "  <thead>\n",
       "    <tr style=\"text-align: right;\">\n",
       "      <th></th>\n",
       "      <th>review</th>\n",
       "      <th>cleaned_review</th>\n",
       "    </tr>\n",
       "  </thead>\n",
       "  <tbody>\n",
       "    <tr>\n",
       "      <th>0</th>\n",
       "      <td>good</td>\n",
       "      <td>good</td>\n",
       "    </tr>\n",
       "    <tr>\n",
       "      <th>1</th>\n",
       "      <td>very good .</td>\n",
       "      <td>good</td>\n",
       "    </tr>\n",
       "    <tr>\n",
       "      <th>2</th>\n",
       "      <td>this app is good for you guys</td>\n",
       "      <td>app good guys</td>\n",
       "    </tr>\n",
       "    <tr>\n",
       "      <th>3</th>\n",
       "      <td>wow</td>\n",
       "      <td>wow</td>\n",
       "    </tr>\n",
       "    <tr>\n",
       "      <th>4</th>\n",
       "      <td>kalid</td>\n",
       "      <td>kalid</td>\n",
       "    </tr>\n",
       "  </tbody>\n",
       "</table>\n",
       "</div>"
      ],
      "text/plain": [
       "                          review cleaned_review\n",
       "0                           good           good\n",
       "1                    very good .           good\n",
       "2  this app is good for you guys  app good guys\n",
       "3                            wow            wow\n",
       "4                          kalid          kalid"
      ]
     },
     "execution_count": 13,
     "metadata": {},
     "output_type": "execute_result"
    }
   ],
   "source": [
    "stop_words = set(stopwords.words('english'))\n",
    "\n",
    "def clean_text(text):\n",
    "    # Lowercase\n",
    "    text = text.lower()\n",
    "    # Remove punctuation and numbers\n",
    "    text = re.sub(r'[^a-z\\s]', '', text)\n",
    "    # Remove stopwords\n",
    "    words = text.split()\n",
    "    words = [word for word in words if word not in stop_words]\n",
    "    return ' '.join(words)\n",
    "\n",
    "# Apply cleaning function to the 'review' column\n",
    "df['cleaned_review'] = df['review'].astype(str).apply(clean_text)\n",
    "\n",
    "# Show sample of original vs cleaned\n",
    "df[['review', 'cleaned_review']].head()"
   ]
  },
  {
   "cell_type": "code",
   "execution_count": 14,
   "id": "0a7fd6fd",
   "metadata": {},
   "outputs": [
    {
     "data": {
      "text/html": [
       "<div>\n",
       "<style scoped>\n",
       "    .dataframe tbody tr th:only-of-type {\n",
       "        vertical-align: middle;\n",
       "    }\n",
       "\n",
       "    .dataframe tbody tr th {\n",
       "        vertical-align: top;\n",
       "    }\n",
       "\n",
       "    .dataframe thead th {\n",
       "        text-align: right;\n",
       "    }\n",
       "</style>\n",
       "<table border=\"1\" class=\"dataframe\">\n",
       "  <thead>\n",
       "    <tr style=\"text-align: right;\">\n",
       "      <th></th>\n",
       "      <th>always</th>\n",
       "      <th>amazing</th>\n",
       "      <th>app</th>\n",
       "      <th>application</th>\n",
       "      <th>apps</th>\n",
       "      <th>bank</th>\n",
       "      <th>banking</th>\n",
       "      <th>best</th>\n",
       "      <th>better</th>\n",
       "      <th>boa</th>\n",
       "      <th>...</th>\n",
       "      <th>transaction</th>\n",
       "      <th>transactions</th>\n",
       "      <th>update</th>\n",
       "      <th>use</th>\n",
       "      <th>user</th>\n",
       "      <th>using</th>\n",
       "      <th>work</th>\n",
       "      <th>working</th>\n",
       "      <th>worst</th>\n",
       "      <th>wow</th>\n",
       "    </tr>\n",
       "  </thead>\n",
       "  <tbody>\n",
       "    <tr>\n",
       "      <th>0</th>\n",
       "      <td>0.0</td>\n",
       "      <td>0.0</td>\n",
       "      <td>0.000000</td>\n",
       "      <td>0.0</td>\n",
       "      <td>0.0</td>\n",
       "      <td>0.0</td>\n",
       "      <td>0.0</td>\n",
       "      <td>0.0</td>\n",
       "      <td>0.0</td>\n",
       "      <td>0.0</td>\n",
       "      <td>...</td>\n",
       "      <td>0.0</td>\n",
       "      <td>0.0</td>\n",
       "      <td>0.0</td>\n",
       "      <td>0.0</td>\n",
       "      <td>0.0</td>\n",
       "      <td>0.0</td>\n",
       "      <td>0.0</td>\n",
       "      <td>0.0</td>\n",
       "      <td>0.0</td>\n",
       "      <td>0.0</td>\n",
       "    </tr>\n",
       "    <tr>\n",
       "      <th>1</th>\n",
       "      <td>0.0</td>\n",
       "      <td>0.0</td>\n",
       "      <td>0.000000</td>\n",
       "      <td>0.0</td>\n",
       "      <td>0.0</td>\n",
       "      <td>0.0</td>\n",
       "      <td>0.0</td>\n",
       "      <td>0.0</td>\n",
       "      <td>0.0</td>\n",
       "      <td>0.0</td>\n",
       "      <td>...</td>\n",
       "      <td>0.0</td>\n",
       "      <td>0.0</td>\n",
       "      <td>0.0</td>\n",
       "      <td>0.0</td>\n",
       "      <td>0.0</td>\n",
       "      <td>0.0</td>\n",
       "      <td>0.0</td>\n",
       "      <td>0.0</td>\n",
       "      <td>0.0</td>\n",
       "      <td>0.0</td>\n",
       "    </tr>\n",
       "    <tr>\n",
       "      <th>2</th>\n",
       "      <td>0.0</td>\n",
       "      <td>0.0</td>\n",
       "      <td>0.587296</td>\n",
       "      <td>0.0</td>\n",
       "      <td>0.0</td>\n",
       "      <td>0.0</td>\n",
       "      <td>0.0</td>\n",
       "      <td>0.0</td>\n",
       "      <td>0.0</td>\n",
       "      <td>0.0</td>\n",
       "      <td>...</td>\n",
       "      <td>0.0</td>\n",
       "      <td>0.0</td>\n",
       "      <td>0.0</td>\n",
       "      <td>0.0</td>\n",
       "      <td>0.0</td>\n",
       "      <td>0.0</td>\n",
       "      <td>0.0</td>\n",
       "      <td>0.0</td>\n",
       "      <td>0.0</td>\n",
       "      <td>0.0</td>\n",
       "    </tr>\n",
       "    <tr>\n",
       "      <th>3</th>\n",
       "      <td>0.0</td>\n",
       "      <td>0.0</td>\n",
       "      <td>0.000000</td>\n",
       "      <td>0.0</td>\n",
       "      <td>0.0</td>\n",
       "      <td>0.0</td>\n",
       "      <td>0.0</td>\n",
       "      <td>0.0</td>\n",
       "      <td>0.0</td>\n",
       "      <td>0.0</td>\n",
       "      <td>...</td>\n",
       "      <td>0.0</td>\n",
       "      <td>0.0</td>\n",
       "      <td>0.0</td>\n",
       "      <td>0.0</td>\n",
       "      <td>0.0</td>\n",
       "      <td>0.0</td>\n",
       "      <td>0.0</td>\n",
       "      <td>0.0</td>\n",
       "      <td>0.0</td>\n",
       "      <td>1.0</td>\n",
       "    </tr>\n",
       "    <tr>\n",
       "      <th>4</th>\n",
       "      <td>0.0</td>\n",
       "      <td>0.0</td>\n",
       "      <td>0.000000</td>\n",
       "      <td>0.0</td>\n",
       "      <td>0.0</td>\n",
       "      <td>0.0</td>\n",
       "      <td>0.0</td>\n",
       "      <td>0.0</td>\n",
       "      <td>0.0</td>\n",
       "      <td>0.0</td>\n",
       "      <td>...</td>\n",
       "      <td>0.0</td>\n",
       "      <td>0.0</td>\n",
       "      <td>0.0</td>\n",
       "      <td>0.0</td>\n",
       "      <td>0.0</td>\n",
       "      <td>0.0</td>\n",
       "      <td>0.0</td>\n",
       "      <td>0.0</td>\n",
       "      <td>0.0</td>\n",
       "      <td>0.0</td>\n",
       "    </tr>\n",
       "  </tbody>\n",
       "</table>\n",
       "<p>5 rows × 50 columns</p>\n",
       "</div>"
      ],
      "text/plain": [
       "   always  amazing       app  application  apps  bank  banking  best  better  \\\n",
       "0     0.0      0.0  0.000000          0.0   0.0   0.0      0.0   0.0     0.0   \n",
       "1     0.0      0.0  0.000000          0.0   0.0   0.0      0.0   0.0     0.0   \n",
       "2     0.0      0.0  0.587296          0.0   0.0   0.0      0.0   0.0     0.0   \n",
       "3     0.0      0.0  0.000000          0.0   0.0   0.0      0.0   0.0     0.0   \n",
       "4     0.0      0.0  0.000000          0.0   0.0   0.0      0.0   0.0     0.0   \n",
       "\n",
       "   boa  ...  transaction  transactions  update  use  user  using  work  \\\n",
       "0  0.0  ...          0.0           0.0     0.0  0.0   0.0    0.0   0.0   \n",
       "1  0.0  ...          0.0           0.0     0.0  0.0   0.0    0.0   0.0   \n",
       "2  0.0  ...          0.0           0.0     0.0  0.0   0.0    0.0   0.0   \n",
       "3  0.0  ...          0.0           0.0     0.0  0.0   0.0    0.0   0.0   \n",
       "4  0.0  ...          0.0           0.0     0.0  0.0   0.0    0.0   0.0   \n",
       "\n",
       "   working  worst  wow  \n",
       "0      0.0    0.0  0.0  \n",
       "1      0.0    0.0  0.0  \n",
       "2      0.0    0.0  0.0  \n",
       "3      0.0    0.0  1.0  \n",
       "4      0.0    0.0  0.0  \n",
       "\n",
       "[5 rows x 50 columns]"
      ]
     },
     "execution_count": 14,
     "metadata": {},
     "output_type": "execute_result"
    }
   ],
   "source": [
    "vectorizer = TfidfVectorizer(max_df=0.8, min_df=5, max_features=50)\n",
    "X = vectorizer.fit_transform(df['cleaned_review'])\n",
    "\n",
    "# Get keywords and their TF-IDF scores\n",
    "tfidf_keywords = vectorizer.get_feature_names_out()\n",
    "tfidf_df = pd.DataFrame(X.toarray(), columns=tfidf_keywords)\n",
    "tfidf_df.head()"
   ]
  },
  {
   "cell_type": "code",
   "execution_count": 15,
   "id": "a5157f60",
   "metadata": {},
   "outputs": [],
   "source": [
    "themes = {\n",
    "    'Account Access Issues': ['login', 'password', 'otp', 'authentication'],\n",
    "    'Transaction Problems': ['transfer', 'failed', 'payment', 'error'],\n",
    "    'Performance & Speed': ['slow', 'load', 'crash', 'freeze'],\n",
    "    'User Interface': ['design', 'easy', 'navigation', 'interface'],\n",
    "    'Features & Requests': ['update', 'fingerprint', 'option', 'feature']\n",
    "}"
   ]
  },
  {
   "cell_type": "code",
   "execution_count": 16,
   "id": "b9ec2e85",
   "metadata": {},
   "outputs": [
    {
     "data": {
      "text/html": [
       "<div>\n",
       "<style scoped>\n",
       "    .dataframe tbody tr th:only-of-type {\n",
       "        vertical-align: middle;\n",
       "    }\n",
       "\n",
       "    .dataframe tbody tr th {\n",
       "        vertical-align: top;\n",
       "    }\n",
       "\n",
       "    .dataframe thead th {\n",
       "        text-align: right;\n",
       "    }\n",
       "</style>\n",
       "<table border=\"1\" class=\"dataframe\">\n",
       "  <thead>\n",
       "    <tr style=\"text-align: right;\">\n",
       "      <th></th>\n",
       "      <th>review</th>\n",
       "      <th>themes</th>\n",
       "    </tr>\n",
       "  </thead>\n",
       "  <tbody>\n",
       "    <tr>\n",
       "      <th>0</th>\n",
       "      <td>good</td>\n",
       "      <td>Other</td>\n",
       "    </tr>\n",
       "    <tr>\n",
       "      <th>1</th>\n",
       "      <td>very good .</td>\n",
       "      <td>Other</td>\n",
       "    </tr>\n",
       "    <tr>\n",
       "      <th>2</th>\n",
       "      <td>this app is good for you guys</td>\n",
       "      <td>Other</td>\n",
       "    </tr>\n",
       "    <tr>\n",
       "      <th>3</th>\n",
       "      <td>wow</td>\n",
       "      <td>Other</td>\n",
       "    </tr>\n",
       "    <tr>\n",
       "      <th>4</th>\n",
       "      <td>kalid</td>\n",
       "      <td>Other</td>\n",
       "    </tr>\n",
       "  </tbody>\n",
       "</table>\n",
       "</div>"
      ],
      "text/plain": [
       "                          review themes\n",
       "0                           good  Other\n",
       "1                    very good .  Other\n",
       "2  this app is good for you guys  Other\n",
       "3                            wow  Other\n",
       "4                          kalid  Other"
      ]
     },
     "execution_count": 16,
     "metadata": {},
     "output_type": "execute_result"
    }
   ],
   "source": [
    "def assign_theme(text):\n",
    "    matched_themes = []\n",
    "    for theme, keywords in themes.items():\n",
    "        if any(word in text for word in keywords):\n",
    "            matched_themes.append(theme)\n",
    "    return ', '.join(matched_themes) if matched_themes else 'Other'\n",
    "\n",
    "df['themes'] = df['cleaned_review'].apply(assign_theme)\n",
    "df[['review', 'themes']].head()"
   ]
  },
  {
   "cell_type": "code",
   "execution_count": 17,
   "id": "3bff2b67",
   "metadata": {},
   "outputs": [
    {
     "data": {
      "text/html": [
       "<div>\n",
       "<style scoped>\n",
       "    .dataframe tbody tr th:only-of-type {\n",
       "        vertical-align: middle;\n",
       "    }\n",
       "\n",
       "    .dataframe tbody tr th {\n",
       "        vertical-align: top;\n",
       "    }\n",
       "\n",
       "    .dataframe thead th {\n",
       "        text-align: right;\n",
       "    }\n",
       "</style>\n",
       "<table border=\"1\" class=\"dataframe\">\n",
       "  <thead>\n",
       "    <tr style=\"text-align: right;\">\n",
       "      <th>themes</th>\n",
       "      <th>Account Access Issues</th>\n",
       "      <th>Account Access Issues, Features &amp; Requests</th>\n",
       "      <th>Account Access Issues, Performance &amp; Speed</th>\n",
       "      <th>Account Access Issues, Transaction Problems</th>\n",
       "      <th>Account Access Issues, Transaction Problems, Performance &amp; Speed</th>\n",
       "      <th>Account Access Issues, Transaction Problems, Performance &amp; Speed, Features &amp; Requests</th>\n",
       "      <th>Account Access Issues, Transaction Problems, User Interface</th>\n",
       "      <th>Account Access Issues, User Interface, Features &amp; Requests</th>\n",
       "      <th>Features &amp; Requests</th>\n",
       "      <th>Other</th>\n",
       "      <th>...</th>\n",
       "      <th>Performance &amp; Speed, User Interface, Features &amp; Requests</th>\n",
       "      <th>Transaction Problems</th>\n",
       "      <th>Transaction Problems, Features &amp; Requests</th>\n",
       "      <th>Transaction Problems, Performance &amp; Speed</th>\n",
       "      <th>Transaction Problems, Performance &amp; Speed, Features &amp; Requests</th>\n",
       "      <th>Transaction Problems, Performance &amp; Speed, User Interface, Features &amp; Requests</th>\n",
       "      <th>Transaction Problems, User Interface</th>\n",
       "      <th>Transaction Problems, User Interface, Features &amp; Requests</th>\n",
       "      <th>User Interface</th>\n",
       "      <th>User Interface, Features &amp; Requests</th>\n",
       "    </tr>\n",
       "    <tr>\n",
       "      <th>bank</th>\n",
       "      <th></th>\n",
       "      <th></th>\n",
       "      <th></th>\n",
       "      <th></th>\n",
       "      <th></th>\n",
       "      <th></th>\n",
       "      <th></th>\n",
       "      <th></th>\n",
       "      <th></th>\n",
       "      <th></th>\n",
       "      <th></th>\n",
       "      <th></th>\n",
       "      <th></th>\n",
       "      <th></th>\n",
       "      <th></th>\n",
       "      <th></th>\n",
       "      <th></th>\n",
       "      <th></th>\n",
       "      <th></th>\n",
       "      <th></th>\n",
       "      <th></th>\n",
       "    </tr>\n",
       "  </thead>\n",
       "  <tbody>\n",
       "    <tr>\n",
       "      <th>Bank of Abyssinia</th>\n",
       "      <td>4</td>\n",
       "      <td>2</td>\n",
       "      <td>2</td>\n",
       "      <td>2</td>\n",
       "      <td>1</td>\n",
       "      <td>1</td>\n",
       "      <td>0</td>\n",
       "      <td>0</td>\n",
       "      <td>22</td>\n",
       "      <td>401</td>\n",
       "      <td>...</td>\n",
       "      <td>0</td>\n",
       "      <td>12</td>\n",
       "      <td>1</td>\n",
       "      <td>4</td>\n",
       "      <td>1</td>\n",
       "      <td>0</td>\n",
       "      <td>0</td>\n",
       "      <td>0</td>\n",
       "      <td>6</td>\n",
       "      <td>0</td>\n",
       "    </tr>\n",
       "    <tr>\n",
       "      <th>Commercial Bank of Ethiopia</th>\n",
       "      <td>0</td>\n",
       "      <td>0</td>\n",
       "      <td>0</td>\n",
       "      <td>0</td>\n",
       "      <td>0</td>\n",
       "      <td>0</td>\n",
       "      <td>0</td>\n",
       "      <td>0</td>\n",
       "      <td>18</td>\n",
       "      <td>411</td>\n",
       "      <td>...</td>\n",
       "      <td>0</td>\n",
       "      <td>15</td>\n",
       "      <td>3</td>\n",
       "      <td>0</td>\n",
       "      <td>0</td>\n",
       "      <td>0</td>\n",
       "      <td>0</td>\n",
       "      <td>0</td>\n",
       "      <td>20</td>\n",
       "      <td>0</td>\n",
       "    </tr>\n",
       "    <tr>\n",
       "      <th>Dashen Bank</th>\n",
       "      <td>4</td>\n",
       "      <td>0</td>\n",
       "      <td>1</td>\n",
       "      <td>2</td>\n",
       "      <td>0</td>\n",
       "      <td>0</td>\n",
       "      <td>1</td>\n",
       "      <td>1</td>\n",
       "      <td>31</td>\n",
       "      <td>328</td>\n",
       "      <td>...</td>\n",
       "      <td>1</td>\n",
       "      <td>14</td>\n",
       "      <td>3</td>\n",
       "      <td>0</td>\n",
       "      <td>0</td>\n",
       "      <td>1</td>\n",
       "      <td>3</td>\n",
       "      <td>7</td>\n",
       "      <td>32</td>\n",
       "      <td>10</td>\n",
       "    </tr>\n",
       "  </tbody>\n",
       "</table>\n",
       "<p>3 rows × 23 columns</p>\n",
       "</div>"
      ],
      "text/plain": [
       "themes                       Account Access Issues  \\\n",
       "bank                                                 \n",
       "Bank of Abyssinia                                4   \n",
       "Commercial Bank of Ethiopia                      0   \n",
       "Dashen Bank                                      4   \n",
       "\n",
       "themes                       Account Access Issues, Features & Requests  \\\n",
       "bank                                                                      \n",
       "Bank of Abyssinia                                                     2   \n",
       "Commercial Bank of Ethiopia                                           0   \n",
       "Dashen Bank                                                           0   \n",
       "\n",
       "themes                       Account Access Issues, Performance & Speed  \\\n",
       "bank                                                                      \n",
       "Bank of Abyssinia                                                     2   \n",
       "Commercial Bank of Ethiopia                                           0   \n",
       "Dashen Bank                                                           1   \n",
       "\n",
       "themes                       Account Access Issues, Transaction Problems  \\\n",
       "bank                                                                       \n",
       "Bank of Abyssinia                                                      2   \n",
       "Commercial Bank of Ethiopia                                            0   \n",
       "Dashen Bank                                                            2   \n",
       "\n",
       "themes                       Account Access Issues, Transaction Problems, Performance & Speed  \\\n",
       "bank                                                                                            \n",
       "Bank of Abyssinia                                                            1                  \n",
       "Commercial Bank of Ethiopia                                                  0                  \n",
       "Dashen Bank                                                                  0                  \n",
       "\n",
       "themes                       Account Access Issues, Transaction Problems, Performance & Speed, Features & Requests  \\\n",
       "bank                                                                                                                 \n",
       "Bank of Abyssinia                                                            1                                       \n",
       "Commercial Bank of Ethiopia                                                  0                                       \n",
       "Dashen Bank                                                                  0                                       \n",
       "\n",
       "themes                       Account Access Issues, Transaction Problems, User Interface  \\\n",
       "bank                                                                                       \n",
       "Bank of Abyssinia                                                            0             \n",
       "Commercial Bank of Ethiopia                                                  0             \n",
       "Dashen Bank                                                                  1             \n",
       "\n",
       "themes                       Account Access Issues, User Interface, Features & Requests  \\\n",
       "bank                                                                                      \n",
       "Bank of Abyssinia                                                            0            \n",
       "Commercial Bank of Ethiopia                                                  0            \n",
       "Dashen Bank                                                                  1            \n",
       "\n",
       "themes                       Features & Requests  Other  ...  \\\n",
       "bank                                                     ...   \n",
       "Bank of Abyssinia                             22    401  ...   \n",
       "Commercial Bank of Ethiopia                   18    411  ...   \n",
       "Dashen Bank                                   31    328  ...   \n",
       "\n",
       "themes                       Performance & Speed, User Interface, Features & Requests  \\\n",
       "bank                                                                                    \n",
       "Bank of Abyssinia                                                            0          \n",
       "Commercial Bank of Ethiopia                                                  0          \n",
       "Dashen Bank                                                                  1          \n",
       "\n",
       "themes                       Transaction Problems  \\\n",
       "bank                                                \n",
       "Bank of Abyssinia                              12   \n",
       "Commercial Bank of Ethiopia                    15   \n",
       "Dashen Bank                                    14   \n",
       "\n",
       "themes                       Transaction Problems, Features & Requests  \\\n",
       "bank                                                                     \n",
       "Bank of Abyssinia                                                    1   \n",
       "Commercial Bank of Ethiopia                                          3   \n",
       "Dashen Bank                                                          3   \n",
       "\n",
       "themes                       Transaction Problems, Performance & Speed  \\\n",
       "bank                                                                     \n",
       "Bank of Abyssinia                                                    4   \n",
       "Commercial Bank of Ethiopia                                          0   \n",
       "Dashen Bank                                                          0   \n",
       "\n",
       "themes                       Transaction Problems, Performance & Speed, Features & Requests  \\\n",
       "bank                                                                                          \n",
       "Bank of Abyssinia                                                            1                \n",
       "Commercial Bank of Ethiopia                                                  0                \n",
       "Dashen Bank                                                                  0                \n",
       "\n",
       "themes                       Transaction Problems, Performance & Speed, User Interface, Features & Requests  \\\n",
       "bank                                                                                                          \n",
       "Bank of Abyssinia                                                            0                                \n",
       "Commercial Bank of Ethiopia                                                  0                                \n",
       "Dashen Bank                                                                  1                                \n",
       "\n",
       "themes                       Transaction Problems, User Interface  \\\n",
       "bank                                                                \n",
       "Bank of Abyssinia                                               0   \n",
       "Commercial Bank of Ethiopia                                     0   \n",
       "Dashen Bank                                                     3   \n",
       "\n",
       "themes                       Transaction Problems, User Interface, Features & Requests  \\\n",
       "bank                                                                                     \n",
       "Bank of Abyssinia                                                            0           \n",
       "Commercial Bank of Ethiopia                                                  0           \n",
       "Dashen Bank                                                                  7           \n",
       "\n",
       "themes                       User Interface  \\\n",
       "bank                                          \n",
       "Bank of Abyssinia                         6   \n",
       "Commercial Bank of Ethiopia              20   \n",
       "Dashen Bank                              32   \n",
       "\n",
       "themes                       User Interface, Features & Requests  \n",
       "bank                                                              \n",
       "Bank of Abyssinia                                              0  \n",
       "Commercial Bank of Ethiopia                                    0  \n",
       "Dashen Bank                                                   10  \n",
       "\n",
       "[3 rows x 23 columns]"
      ]
     },
     "execution_count": 17,
     "metadata": {},
     "output_type": "execute_result"
    }
   ],
   "source": [
    "theme_summary = df.groupby(['bank', 'themes']).size().unstack(fill_value=0)\n",
    "theme_summary"
   ]
  },
  {
   "cell_type": "code",
   "execution_count": 18,
   "id": "b25ee08f",
   "metadata": {},
   "outputs": [
    {
     "name": "stdout",
     "output_type": "stream",
     "text": [
      "✅ Dataset saved with sentiment and themes included.\n"
     ]
    }
   ],
   "source": [
    "df.to_csv(\"../data/reviews_with_sentiment_and_themes.csv\", index=False)\n",
    "print(\"✅ Dataset saved with sentiment and themes included.\")"
   ]
  },
  {
   "cell_type": "markdown",
   "id": "691d0fc2",
   "metadata": {},
   "source": [
    "## Task 2 Summary: Sentiment and Thematic Analysis\n",
    "\n",
    "- We used VADER to classify user reviews into **positive**, **neutral**, or **negative**.\n",
    "- Reviews were cleaned and processed using standard NLP methods (lowercasing, stopword removal, etc.).\n",
    "- TF-IDF was applied to extract top keywords across all reviews.\n",
    "- Keywords were grouped into five main themes:\n",
    "  - Account Access Issues\n",
    "  - Transaction Problems\n",
    "  - Performance & Speed\n",
    "  - User Interface\n",
    "  - Feature Requests\n",
    "- Each review was tagged with matching themes based on content.\n",
    "- A summary table shows the distribution of themes across each bank.\n",
    "\n",
    "This completes Task 2. The dataset is now ready for visualization and storage."
   ]
  },
  {
   "cell_type": "markdown",
   "id": "4d879e59",
   "metadata": {},
   "source": [
    "## Task 3: Store Cleaned Data in Oracle\n",
    "### Step 1: Connect to Oracle XE\n",
    "\n",
    "We begin Task 3 by setting up the connection between Python and our Oracle XE database. We initialize the Oracle Instant Client using `cx_Oracle.init_oracle_client()` and establish a connection using our username, password, and the database's service name (`XEPDB1`). This step is essential to allow data transfer from our script into Oracle."
   ]
  },
  {
   "cell_type": "markdown",
   "id": "a5670f92",
   "metadata": {},
   "source": [
    "### Step 2: Verify Connection\n",
    "\n",
    "We confirm that the connection to Oracle XE has been successfully established by printing the database version. This helps ensure we are connected and ready to execute further SQL commands."
   ]
  },
  {
   "cell_type": "code",
   "execution_count": 19,
   "id": "668a851e",
   "metadata": {},
   "outputs": [
    {
     "name": "stdout",
     "output_type": "stream",
     "text": [
      "✅ Reconnected to Oracle\n"
     ]
    }
   ],
   "source": [
    "import cx_Oracle\n",
    "\n",
    "# Re-initialize Oracle client path\n",
    "cx_Oracle.init_oracle_client(lib_dir=r\"C:\\Users\\Bereket\\Downloads\\Compressed\\New folder\\instantclient_23_8\")\n",
    "\n",
    "# Reconnect\n",
    "dsn = cx_Oracle.makedsn(\"localhost\", 1521, service_name=\"XEPDB1\")\n",
    "conn = cx_Oracle.connect(user=\"system\", password=\"1993\", dsn=dsn)\n",
    "\n",
    "print(\"✅ Reconnected to Oracle\")\n"
   ]
  },
  {
   "cell_type": "markdown",
   "id": "ba4422b2",
   "metadata": {},
   "source": [
    "### Step 3: Create the REVIEWS Table\n",
    "\n",
    "We define and create the `REVIEWS` table in our Oracle database. The table stores one row per review and includes the following fields:\n",
    "- `REVIEW_TEXT`: the actual user review\n",
    "- `RATING`: numeric rating from 1 to 5\n",
    "- `REVIEW_DATE`: the date the review was posted\n",
    "- `BANK_NAME`: the name of the bank the review is about\n",
    "- `SENTIMENT`: the predicted sentiment label (positive, neutral, negative)\n",
    "- `THEMES`: identified topic(s) based on keyword matching\n",
    "\n",
    "This schema mirrors our cleaned data and prepares Oracle to store the final dataset."
   ]
  },
  {
   "cell_type": "code",
   "execution_count": 20,
   "id": "cc861613",
   "metadata": {},
   "outputs": [
    {
     "name": "stdout",
     "output_type": "stream",
     "text": [
      "✅ Table created successfully.\n"
     ]
    }
   ],
   "source": [
    "cursor = conn.cursor()\n",
    "\n",
    "cursor.execute(\"\"\"\n",
    "    CREATE TABLE REVIEWS (\n",
    "        ID              NUMBER GENERATED ALWAYS AS IDENTITY PRIMARY KEY,\n",
    "        REVIEW_TEXT     CLOB,\n",
    "        RATING          NUMBER,\n",
    "        REVIEW_DATE     DATE,\n",
    "        BANK_NAME       VARCHAR2(100),\n",
    "        SENTIMENT       VARCHAR2(20),\n",
    "        SENTIMENT_SCORE NUMBER,\n",
    "        THEMES          VARCHAR2(200)\n",
    "    )\n",
    "\"\"\")\n",
    "\n",
    "conn.commit()\n",
    "cursor.close()\n",
    "print(\"✅ Table created successfully.\")\n"
   ]
  },
  {
   "cell_type": "markdown",
   "id": "8f475c14",
   "metadata": {},
   "source": [
    "### Step 4: Load Cleaned Review Data\n",
    "\n",
    "We load our cleaned dataset from Task 2 into a pandas DataFrame. This dataset includes sentiment labels and themes and will be inserted into the REVIEWS table created in the previous step."
   ]
  },
  {
   "cell_type": "code",
   "execution_count": 21,
   "id": "2d9874a5",
   "metadata": {},
   "outputs": [
    {
     "data": {
      "text/html": [
       "<div>\n",
       "<style scoped>\n",
       "    .dataframe tbody tr th:only-of-type {\n",
       "        vertical-align: middle;\n",
       "    }\n",
       "\n",
       "    .dataframe tbody tr th {\n",
       "        vertical-align: top;\n",
       "    }\n",
       "\n",
       "    .dataframe thead th {\n",
       "        text-align: right;\n",
       "    }\n",
       "</style>\n",
       "<table border=\"1\" class=\"dataframe\">\n",
       "  <thead>\n",
       "    <tr style=\"text-align: right;\">\n",
       "      <th></th>\n",
       "      <th>review</th>\n",
       "      <th>rating</th>\n",
       "      <th>date</th>\n",
       "      <th>bank</th>\n",
       "      <th>source</th>\n",
       "      <th>sentiment</th>\n",
       "      <th>cleaned_review</th>\n",
       "      <th>themes</th>\n",
       "    </tr>\n",
       "  </thead>\n",
       "  <tbody>\n",
       "    <tr>\n",
       "      <th>0</th>\n",
       "      <td>good</td>\n",
       "      <td>5</td>\n",
       "      <td>2025-06-10</td>\n",
       "      <td>Dashen Bank</td>\n",
       "      <td>Google Play</td>\n",
       "      <td>positive</td>\n",
       "      <td>good</td>\n",
       "      <td>Other</td>\n",
       "    </tr>\n",
       "    <tr>\n",
       "      <th>1</th>\n",
       "      <td>very good .</td>\n",
       "      <td>5</td>\n",
       "      <td>2025-06-09</td>\n",
       "      <td>Dashen Bank</td>\n",
       "      <td>Google Play</td>\n",
       "      <td>positive</td>\n",
       "      <td>good</td>\n",
       "      <td>Other</td>\n",
       "    </tr>\n",
       "    <tr>\n",
       "      <th>2</th>\n",
       "      <td>this app is good for you guys</td>\n",
       "      <td>5</td>\n",
       "      <td>2025-06-09</td>\n",
       "      <td>Dashen Bank</td>\n",
       "      <td>Google Play</td>\n",
       "      <td>positive</td>\n",
       "      <td>app good guys</td>\n",
       "      <td>Other</td>\n",
       "    </tr>\n",
       "    <tr>\n",
       "      <th>3</th>\n",
       "      <td>wow</td>\n",
       "      <td>5</td>\n",
       "      <td>2025-06-09</td>\n",
       "      <td>Dashen Bank</td>\n",
       "      <td>Google Play</td>\n",
       "      <td>positive</td>\n",
       "      <td>wow</td>\n",
       "      <td>Other</td>\n",
       "    </tr>\n",
       "    <tr>\n",
       "      <th>4</th>\n",
       "      <td>kalid</td>\n",
       "      <td>5</td>\n",
       "      <td>2025-06-08</td>\n",
       "      <td>Dashen Bank</td>\n",
       "      <td>Google Play</td>\n",
       "      <td>neutral</td>\n",
       "      <td>kalid</td>\n",
       "      <td>Other</td>\n",
       "    </tr>\n",
       "  </tbody>\n",
       "</table>\n",
       "</div>"
      ],
      "text/plain": [
       "                          review  rating        date         bank  \\\n",
       "0                           good       5  2025-06-10  Dashen Bank   \n",
       "1                    very good .       5  2025-06-09  Dashen Bank   \n",
       "2  this app is good for you guys       5  2025-06-09  Dashen Bank   \n",
       "3                            wow       5  2025-06-09  Dashen Bank   \n",
       "4                          kalid       5  2025-06-08  Dashen Bank   \n",
       "\n",
       "        source sentiment cleaned_review themes  \n",
       "0  Google Play  positive           good  Other  \n",
       "1  Google Play  positive           good  Other  \n",
       "2  Google Play  positive  app good guys  Other  \n",
       "3  Google Play  positive            wow  Other  \n",
       "4  Google Play   neutral          kalid  Other  "
      ]
     },
     "execution_count": 21,
     "metadata": {},
     "output_type": "execute_result"
    }
   ],
   "source": [
    "df = pd.read_csv(\"../data/reviews_with_sentiment_and_themes.csv\")\n",
    "df.head()"
   ]
  },
  {
   "cell_type": "markdown",
   "id": "d9b5276d",
   "metadata": {},
   "source": [
    "### Step 5: Insert Data into REVIEWS Table\n",
    "\n",
    "We insert the cleaned and labeled data from the DataFrame into our Oracle `REVIEWS` table. The insertion is done using `executemany()` for efficiency, and each row includes review text, rating, date, bank name, sentiment label, and themes."
   ]
  },
  {
   "cell_type": "code",
   "execution_count": 24,
   "id": "81dbb7cd",
   "metadata": {},
   "outputs": [
    {
     "name": "stdout",
     "output_type": "stream",
     "text": [
      "✅ Inserted 1432 rows into REVIEWS table.\n"
     ]
    }
   ],
   "source": [
    "cursor = conn.cursor()\n",
    "\n",
    "insert_sql = \"\"\"\n",
    "    INSERT INTO REVIEWS (REVIEW_TEXT, RATING, REVIEW_DATE, BANK_NAME, SENTIMENT, THEMES)\n",
    "    VALUES (:1, :2, TO_DATE(:3, 'YYYY-MM-DD'), :4, :5, :6)\n",
    "\"\"\"\n",
    "\n",
    "data = [\n",
    "    (\n",
    "        row[\"review\"],\n",
    "        row[\"rating\"],\n",
    "        row[\"date\"],\n",
    "        row[\"bank\"],\n",
    "        row[\"sentiment\"],\n",
    "        row[\"themes\"]\n",
    "    )\n",
    "    for _, row in df.iterrows()\n",
    "]\n",
    "\n",
    "cursor.executemany(insert_sql, data)\n",
    "conn.commit()\n",
    "cursor.close()\n",
    "print(f\"✅ Inserted {len(data)} rows into REVIEWS table.\")\n"
   ]
  },
  {
   "cell_type": "markdown",
   "id": "b3828844",
   "metadata": {},
   "source": [
    "### Final Output: Confirm Number of Inserted Rows\n",
    "\n",
    "We print a confirmation showing how many rows were successfully inserted into the REVIEWS table. This confirms the successful completion of Task 3."
   ]
  },
  {
   "cell_type": "markdown",
   "id": "4b3047ed",
   "metadata": {},
   "source": [
    "### Step 1: Load Data from Oracle Database\n",
    "\n",
    "We begin Task 4 by querying the `REVIEWS` table and loading the results into a pandas DataFrame. This makes it easier to perform summary statistics and visualizations using Python tools."
   ]
  },
  {
   "cell_type": "code",
   "execution_count": 25,
   "id": "cb1920e1",
   "metadata": {},
   "outputs": [
    {
     "name": "stderr",
     "output_type": "stream",
     "text": [
      "C:\\Users\\Bereket\\AppData\\Local\\Temp\\ipykernel_10532\\2976868716.py:12: UserWarning: pandas only supports SQLAlchemy connectable (engine/connection) or database string URI or sqlite3 DBAPI2 connection. Other DBAPI2 objects are not tested. Please consider using SQLAlchemy.\n",
      "  df = pd.read_sql(query, con=conn)\n"
     ]
    },
    {
     "data": {
      "text/html": [
       "<div>\n",
       "<style scoped>\n",
       "    .dataframe tbody tr th:only-of-type {\n",
       "        vertical-align: middle;\n",
       "    }\n",
       "\n",
       "    .dataframe tbody tr th {\n",
       "        vertical-align: top;\n",
       "    }\n",
       "\n",
       "    .dataframe thead th {\n",
       "        text-align: right;\n",
       "    }\n",
       "</style>\n",
       "<table border=\"1\" class=\"dataframe\">\n",
       "  <thead>\n",
       "    <tr style=\"text-align: right;\">\n",
       "      <th></th>\n",
       "      <th>REVIEW_TEXT</th>\n",
       "      <th>RATING</th>\n",
       "      <th>REVIEW_DATE</th>\n",
       "      <th>BANK_NAME</th>\n",
       "      <th>SENTIMENT</th>\n",
       "      <th>THEMES</th>\n",
       "    </tr>\n",
       "  </thead>\n",
       "  <tbody>\n",
       "    <tr>\n",
       "      <th>0</th>\n",
       "      <td>good</td>\n",
       "      <td>5</td>\n",
       "      <td>2025-06-10</td>\n",
       "      <td>Dashen Bank</td>\n",
       "      <td>positive</td>\n",
       "      <td>Other</td>\n",
       "    </tr>\n",
       "    <tr>\n",
       "      <th>1</th>\n",
       "      <td>very good .</td>\n",
       "      <td>5</td>\n",
       "      <td>2025-06-09</td>\n",
       "      <td>Dashen Bank</td>\n",
       "      <td>positive</td>\n",
       "      <td>Other</td>\n",
       "    </tr>\n",
       "    <tr>\n",
       "      <th>2</th>\n",
       "      <td>this app is good for you guys</td>\n",
       "      <td>5</td>\n",
       "      <td>2025-06-09</td>\n",
       "      <td>Dashen Bank</td>\n",
       "      <td>positive</td>\n",
       "      <td>Other</td>\n",
       "    </tr>\n",
       "    <tr>\n",
       "      <th>3</th>\n",
       "      <td>wow</td>\n",
       "      <td>5</td>\n",
       "      <td>2025-06-09</td>\n",
       "      <td>Dashen Bank</td>\n",
       "      <td>positive</td>\n",
       "      <td>Other</td>\n",
       "    </tr>\n",
       "    <tr>\n",
       "      <th>4</th>\n",
       "      <td>kalid</td>\n",
       "      <td>5</td>\n",
       "      <td>2025-06-08</td>\n",
       "      <td>Dashen Bank</td>\n",
       "      <td>neutral</td>\n",
       "      <td>Other</td>\n",
       "    </tr>\n",
       "  </tbody>\n",
       "</table>\n",
       "</div>"
      ],
      "text/plain": [
       "                     REVIEW_TEXT  RATING REVIEW_DATE    BANK_NAME SENTIMENT  \\\n",
       "0                           good       5  2025-06-10  Dashen Bank  positive   \n",
       "1                    very good .       5  2025-06-09  Dashen Bank  positive   \n",
       "2  this app is good for you guys       5  2025-06-09  Dashen Bank  positive   \n",
       "3                            wow       5  2025-06-09  Dashen Bank  positive   \n",
       "4                          kalid       5  2025-06-08  Dashen Bank   neutral   \n",
       "\n",
       "  THEMES  \n",
       "0  Other  \n",
       "1  Other  \n",
       "2  Other  \n",
       "3  Other  \n",
       "4  Other  "
      ]
     },
     "execution_count": 25,
     "metadata": {},
     "output_type": "execute_result"
    }
   ],
   "source": [
    "query = \"\"\"\n",
    "SELECT \n",
    "    REVIEW_TEXT, \n",
    "    RATING, \n",
    "    REVIEW_DATE, \n",
    "    BANK_NAME, \n",
    "    SENTIMENT, \n",
    "    THEMES \n",
    "FROM REVIEWS\n",
    "\"\"\"\n",
    "\n",
    "df = pd.read_sql(query, con=conn)\n",
    "\n",
    "# Convert date to datetime\n",
    "df['REVIEW_DATE'] = pd.to_datetime(df['REVIEW_DATE'])\n",
    "\n",
    "df.head()"
   ]
  },
  {
   "cell_type": "markdown",
   "id": "d49f2a9b",
   "metadata": {},
   "source": [
    "### Step 2: Sentiment Distribution\n",
    "\n",
    "We visualize the number of reviews classified as Positive, Neutral, or Negative. This helps us understand the general tone of customer feedback across all banks."
   ]
  },
  {
   "cell_type": "code",
   "execution_count": 26,
   "id": "466135c2",
   "metadata": {},
   "outputs": [
    {
     "data": {
      "image/png": "[encoded data removed]",
      "text/plain": [
       "<Figure size 600x400 with 1 Axes>"
      ]
     },
     "metadata": {},
     "output_type": "display_data"
    }
   ],
   "source": [
    "plt.figure(figsize=(6, 4))\n",
    "sns.countplot(data=df, x='SENTIMENT', order=df['SENTIMENT'].value_counts().index)\n",
    "plt.title(\"Sentiment Distribution of Reviews\")\n",
    "plt.xlabel(\"Sentiment\")\n",
    "plt.ylabel(\"Number of Reviews\")\n",
    "plt.show()"
   ]
  },
  {
   "cell_type": "markdown",
   "id": "f8bfaa96",
   "metadata": {},
   "source": [
    "### Summary Statistics of Ratings\n",
    "\n",
    "We begin the analysis by computing basic statistics for customer ratings. This provides an overview of the average satisfaction level across all reviews.\n"
   ]
  },
  {
   "cell_type": "code",
   "execution_count": 27,
   "id": "c7c0b1de",
   "metadata": {},
   "outputs": [
    {
     "data": {
      "text/plain": [
       "count    1432.000000\n",
       "mean        3.874302\n",
       "std         1.653697\n",
       "min         1.000000\n",
       "25%         3.000000\n",
       "50%         5.000000\n",
       "75%         5.000000\n",
       "max         5.000000\n",
       "Name: RATING, dtype: float64"
      ]
     },
     "execution_count": 27,
     "metadata": {},
     "output_type": "execute_result"
    }
   ],
   "source": [
    "df['RATING'].describe()"
   ]
  },
  {
   "cell_type": "markdown",
   "id": "d7f11f47",
   "metadata": {},
   "source": [
    "### Sentiment Breakdown by Bank\n",
    "\n",
    "Here, we group the reviews by bank and sentiment to see how each bank is perceived. The stacked bar chart shows which banks receive more positive, neutral, or negative reviews."
   ]
  },
  {
   "cell_type": "code",
   "execution_count": 28,
   "id": "80ed3ec0",
   "metadata": {},
   "outputs": [
    {
     "data": {
      "image/png": "[encoded data removed]",
      "text/plain": [
       "<Figure size 1000x600 with 1 Axes>"
      ]
     },
     "metadata": {},
     "output_type": "display_data"
    }
   ],
   "source": [
    "sentiment_by_bank = df.groupby(['BANK_NAME', 'SENTIMENT']).size().unstack().fillna(0)\n",
    "sentiment_by_bank.plot(kind='bar', figsize=(10, 6), stacked=True)\n",
    "plt.title(\"Sentiment Breakdown by Bank\")\n",
    "plt.xlabel(\"Bank\")\n",
    "plt.ylabel(\"Number of Reviews\")\n",
    "plt.xticks(rotation=45)\n",
    "plt.legend(title=\"Sentiment\")\n",
    "plt.tight_layout()\n",
    "plt.show()"
   ]
  },
  {
   "cell_type": "markdown",
   "id": "4ad1719c",
   "metadata": {},
   "source": [
    "### Monthly Review Trends\n",
    "\n",
    "This line chart displays the number of reviews received by each bank over time. It helps identify spikes in customer engagement or issues that may have triggered more reviews.\n"
   ]
  },
  {
   "cell_type": "code",
   "execution_count": 29,
   "id": "8433a6f8",
   "metadata": {},
   "outputs": [
    {
     "data": {
      "image/png": "[encoded data removed]",
      "text/plain": [
       "<Figure size 1200x600 with 1 Axes>"
      ]
     },
     "metadata": {},
     "output_type": "display_data"
    }
   ],
   "source": [
    "df['Month'] = df['REVIEW_DATE'].dt.to_period('M')\n",
    "monthly_trend = df.groupby(['Month', 'BANK_NAME']).size().unstack(fill_value=0)\n",
    "\n",
    "monthly_trend.plot(figsize=(12, 6))\n",
    "plt.title(\"Monthly Review Volume per Bank\")\n",
    "plt.xlabel(\"Month\")\n",
    "plt.ylabel(\"Number of Reviews\")\n",
    "plt.xticks(rotation=45)\n",
    "plt.legend(title=\"Bank\")\n",
    "plt.tight_layout()\n",
    "plt.show()"
   ]
  },
  {
   "cell_type": "markdown",
   "id": "b0f7e173",
   "metadata": {},
   "source": [
    "### Top Themes from Customer Reviews\n",
    "\n",
    "We extract and count the most frequently mentioned themes in the reviews. This gives us insight into which features, services, or issues matter most to customers.\n"
   ]
  },
  {
   "cell_type": "code",
   "execution_count": 30,
   "id": "d4f55cb4",
   "metadata": {},
   "outputs": [
    {
     "data": {
      "image/png": "[encoded data removed]",
      "text/plain": [
       "<Figure size 800x500 with 1 Axes>"
      ]
     },
     "metadata": {},
     "output_type": "display_data"
    }
   ],
   "source": [
    "from collections import Counter\n",
    "\n",
    "themes = df['THEMES'].dropna().str.lower().str.split(',')\n",
    "theme_list = [theme.strip() for sublist in themes for theme in sublist]\n",
    "theme_counts = Counter(theme_list)\n",
    "\n",
    "top_themes = pd.DataFrame(theme_counts.most_common(10), columns=['Theme', 'Count'])\n",
    "\n",
    "plt.figure(figsize=(8, 5))\n",
    "sns.barplot(data=top_themes, x='Count', y='Theme')\n",
    "plt.title(\"Top 10 Mentioned Themes in Reviews\")\n",
    "plt.xlabel(\"Number of Mentions\")\n",
    "plt.ylabel(\"Theme\")\n",
    "plt.tight_layout()\n",
    "plt.show()"
   ]
  },
  {
   "cell_type": "markdown",
   "id": "5031c7f5",
   "metadata": {},
   "source": [
    "### Average Customer Rating per Bank\n",
    "\n",
    "We calculate and visualize the average rating received by each bank. This helps compare overall customer satisfaction levels between banks.\n"
   ]
  },
  {
   "cell_type": "code",
   "execution_count": 31,
   "id": "4958b1e3",
   "metadata": {},
   "outputs": [
    {
     "data": {
      "image/png": "[encoded data removed]",
      "text/plain": [
       "<Figure size 800x500 with 1 Axes>"
      ]
     },
     "metadata": {},
     "output_type": "display_data"
    }
   ],
   "source": [
    "avg_rating = df.groupby('BANK_NAME')['RATING'].mean().sort_values()\n",
    "\n",
    "plt.figure(figsize=(8, 5))\n",
    "sns.barplot(x=avg_rating.values, y=avg_rating.index)\n",
    "plt.title(\"Average Rating per Bank\")\n",
    "plt.xlabel(\"Average Rating\")\n",
    "plt.ylabel(\"Bank\")\n",
    "plt.tight_layout()\n",
    "plt.show()"
   ]
  },
  {
   "cell_type": "code",
   "execution_count": null,
   "id": "99ea78ad",
   "metadata": {},
   "outputs": [],
   "source": []
  }
 ],
 "metadata": {
  "kernelspec": {
   "display_name": ".venv",
   "language": "python",
   "name": "python3"
  },
  "language_info": {
   "codemirror_mode": {
    "name": "ipython",
    "version": 3
   },
   "file_extension": ".py",
   "mimetype": "text/x-python",
   "name": "python",
   "nbconvert_exporter": "python",
   "pygments_lexer": "ipython3",
   "version": "3.13.3"
  }
 },
 "nbformat": 4,
 "nbformat_minor": 5
}
